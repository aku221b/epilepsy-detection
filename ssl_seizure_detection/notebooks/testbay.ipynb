{
 "cells": [
  {
   "cell_type": "code",
   "execution_count": 11,
   "metadata": {},
   "outputs": [
    {
     "name": "stdout",
     "output_type": "stream",
     "text": [
      "epochs=10 learning_rate=0.001 batch_size=32\n"
     ]
    }
   ],
   "source": [
    "import json\n",
    "import sys\n",
    "sys.path.append('../src')\n",
    "from pydantic import BaseModel\n",
    "\n",
    "# Define the Pydantic model\n",
    "class ExperimentConfig(BaseModel):\n",
    "    epochs: int\n",
    "    learning_rate: float\n",
    "    batch_size: int\n",
    "\n",
    "# Path to your JSON file\n",
    "json_file_path = '/home/xmootoo/Documents/VSCode/ssl-seizure-detection/exp/1.0/test.json'\n",
    "\n",
    "# Load and parse the JSON file\n",
    "with open(json_file_path, 'r') as file:\n",
    "    data = json.load(file)\n",
    "\n",
    "# Assuming you want to load the configuration for 'experiment_1'\n",
    "experiment_data = data['experiment_1']\n",
    "\n",
    "# Create an instance of the ExperimentConfig with the loaded data\n",
    "config = ExperimentConfig(**experiment_data)\n",
    "\n",
    "# config now contains the configuration from the JSON file\n",
    "print(config)"
   ]
  },
  {
   "cell_type": "code",
   "execution_count": 2,
   "metadata": {},
   "outputs": [],
   "source": [
    "import submitit\n",
    "import os\n",
    "\n",
    "def run_training(x):\n",
    "\n",
    "    # Environment setup\n",
    "    wandb_api_key = os.environ.get(\"WANDB_API_KEY\")\n",
    "    if not wandb_api_key:\n",
    "        raise ValueError(\"WANDB_API_KEY not set in environment variables\")\n",
    "    \n",
    "    module_load = \"module load cuda/11.7 cudnn/8.9.5.29 python/3.10\"\n",
    "    activate_env = \"source ~/torch2_cuda11.7/bin/activate\"\n",
    "\n",
    "    # Define the command to run, including module load and environment activation\n",
    "    command = f\"{module_load} && {activate_env} && python test.py {x} \" \n",
    "\n",
    "    os.system(command)\n",
    "\n",
    "def submit_job():\n",
    "    # Create an executor for SLURM\n",
    "    logdir=\"/home/xmootoo/projects/def-milad777/xmootoo/ssl_epilepsy/jobs\"\n",
    "    executor = submitit.AutoExecutor(folder=logdir)\n",
    "\n",
    "    # Set SLURM job parameters\n",
    "    executor.update_parameters(\n",
    "        gpus_per_node=1,\n",
    "        tasks_per_node=1,\n",
    "        cpus_per_task=4,\n",
    "        mem_gb=12 * 4,  # Adjust memory as needed\n",
    "        time=\"00:25:00\",\n",
    "        slurm_partition=\"def-milad777\",  # Replace with your SLURM partition\n",
    "        slurm_array_parallelism=1\n",
    "    )\n",
    "\n",
    "    # Submit the job\n",
    "    job = executor.submit(run_training, 4)\n",
    "    print(f\"Job submitted: {job.job_id}\")\n",
    "\n",
    "if __name__ == \"__main__\":\n",
    "    submit_job()"
   ]
  }
 ],
 "metadata": {
  "kernelspec": {
   "display_name": "torch2_cuda11.8",
   "language": "python",
   "name": "python3"
  },
  "language_info": {
   "codemirror_mode": {
    "name": "ipython",
    "version": 3
   },
   "file_extension": ".py",
   "mimetype": "text/x-python",
   "name": "python",
   "nbconvert_exporter": "python",
   "pygments_lexer": "ipython3",
   "version": "3.10.12"
  }
 },
 "nbformat": 4,
 "nbformat_minor": 2
}
