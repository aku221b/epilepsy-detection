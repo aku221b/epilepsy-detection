{
 "cells": [
  {
   "cell_type": "code",
   "execution_count": 1,
   "metadata": {},
   "outputs": [
    {
     "name": "stdout",
     "output_type": "stream",
     "text": [
      "Intel MKL WARNING: Support of Intel(R) Streaming SIMD Extensions 4.2 (Intel(R) SSE4.2) enabled only processors has been deprecated. Intel oneAPI Math Kernel Library 2025.0 will require Intel(R) Advanced Vector Extensions (Intel(R) AVX) instructions.\n",
      "Intel MKL WARNING: Support of Intel(R) Streaming SIMD Extensions 4.2 (Intel(R) SSE4.2) enabled only processors has been deprecated. Intel oneAPI Math Kernel Library 2025.0 will require Intel(R) Advanced Vector Extensions (Intel(R) AVX) instructions.\n"
     ]
    }
   ],
   "source": [
    "import matplotlib.pyplot as plt\n",
    "import sys\n",
    "import pandas as pd\n",
    "sys.path.append('../data')"
   ]
  },
  {
   "cell_type": "code",
   "execution_count": 2,
   "metadata": {},
   "outputs": [],
   "source": [
    "df_path = \"/Users/xaviermootoo/Documents/Data/ssl-seizure-detection/results/wandb_export_2023-11-30T14_43_36.914-05_00.csv\"\n",
    "df = pd.read_csv(df_path)"
   ]
  },
  {
   "cell_type": "code",
   "execution_count": 4,
   "metadata": {},
   "outputs": [
    {
     "name": "stdout",
     "output_type": "stream",
     "text": [
      "Index(['Name', 'Test Accuracy', 'Model ID', 'Training examples', 'State',\n",
      "       'Frozen', 'Transfer ID', 'Total examples', 'Date & Time',\n",
      "       'Test examples', 'Validation examples', 'Runtime'],\n",
      "      dtype='object')\n",
      "(703, 12)\n"
     ]
    }
   ],
   "source": [
    "print(df.keys())\n",
    "print(df.shape)"
   ]
  },
  {
   "cell_type": "code",
   "execution_count": 14,
   "metadata": {},
   "outputs": [],
   "source": [
    "# Assuming df is your DataFrame\n",
    "d1 = df.loc[df['Model ID'].isin(['downstream1'])]\n",
    "d2 = df.loc[df['Model ID'].isin(['downstream2'])]\n",
    "supervised = df.loc[df['Model ID'].isin(['supervised'])]"
   ]
  },
  {
   "cell_type": "code",
   "execution_count": 16,
   "metadata": {},
   "outputs": [],
   "source": [
    "d1_rp = d1.loc[d1['Transfer ID'].isin(['relative_positioning'])]\n",
    "d1_ts = d1.loc[d1['Transfer ID'].isin(['temporal_shuffling'])]\n",
    "d2_rp = d2.loc[d2['Transfer ID'].isin(['relative_positioning'])]\n",
    "d2_ts = d2.loc[d2['Transfer ID'].isin(['temporal_shuffling'])]"
   ]
  },
  {
   "cell_type": "code",
   "execution_count": 21,
   "metadata": {},
   "outputs": [
    {
     "name": "stdout",
     "output_type": "stream",
     "text": [
      "d1_rp (Training examples = 1) - Mean Test Accuracy: 61.96923076923077, Std: 15.879616348785492\n",
      "d1_rp (Training examples = 10) - Mean Test Accuracy: 71.53076923076924, Std: 11.709407132071863\n",
      "d1_rp (Training examples = 100) - Mean Test Accuracy: 83.73076923076923, Std: 9.928696560204436\n",
      "d1_rp (Training examples = 1000) - Mean Test Accuracy: 91.35897435897436, Std: 5.087608542700657\n",
      "d1_ts (Training examples = 1) - Mean Test Accuracy: 57.47692307692307, Std: 19.212668897210666\n",
      "d1_ts (Training examples = 10) - Mean Test Accuracy: 71.32307692307693, Std: 12.1565885903014\n",
      "d1_ts (Training examples = 100) - Mean Test Accuracy: 81.77692307692307, Std: 10.886810651143252\n",
      "d1_ts (Training examples = 1000) - Mean Test Accuracy: 90.55128205128204, Std: 5.863591851562438\n",
      "d2_rp (Training examples = 1) - Mean Test Accuracy: 54.77692307692307, Std: 19.710815461412196\n",
      "d2_rp (Training examples = 10) - Mean Test Accuracy: 71.2, Std: 12.997722877488963\n",
      "d2_rp (Training examples = 100) - Mean Test Accuracy: 83.53846153846153, Std: 6.989081594777781\n",
      "d2_rp (Training examples = 1000) - Mean Test Accuracy: 90.37179487179486, Std: 5.515494879037038\n",
      "d2_ts (Training examples = 1) - Mean Test Accuracy: 61.26153846153846, Std: 16.761553076563683\n",
      "d2_ts (Training examples = 10) - Mean Test Accuracy: 75.26923076923076, Std: 9.89883909277322\n",
      "d2_ts (Training examples = 100) - Mean Test Accuracy: 83.58461538461538, Std: 6.624783305599803\n",
      "d2_ts (Training examples = 1000) - Mean Test Accuracy: 89.21794871794872, Std: 5.58565011251933\n",
      "supervised (Training examples = 1) - Mean Test Accuracy: 60.699999999999996, Std: 16.85583578467707\n",
      "supervised (Training examples = 10) - Mean Test Accuracy: 74.88461538461537, Std: 9.980168026949938\n",
      "supervised (Training examples = 100) - Mean Test Accuracy: 83.74615384615385, Std: 8.453838454535587\n",
      "supervised (Training examples = 1000) - Mean Test Accuracy: 90.39743589743588, Std: 5.354972128379988\n"
     ]
    }
   ],
   "source": [
    "models = {\"d1_rp\": d1_rp, \"d1_ts\": d1_ts, \"d2_rp\": d2_rp, \"d2_ts\": d2_ts, \"supervised\": supervised}\n",
    "train_examples = [1, 10, 100, 1000]\n",
    "\n",
    "for model_name, model_df in models.items():\n",
    "    for ex in train_examples:\n",
    "        # Filter the DataFrame based on the 'Train examples' value\n",
    "        filtered_df = model_df[model_df['Training examples'] == ex]\n",
    "\n",
    "        # Calculate mean and std for the filtered DataFrame\n",
    "        mean_accuracy = filtered_df['Test Accuracy'].mean()\n",
    "        std_accuracy = filtered_df['Test Accuracy'].std()\n",
    "\n",
    "        # Print the results\n",
    "        print(f\"{model_name} (Training examples = {ex}) - Mean Test Accuracy: {mean_accuracy}, Std: {std_accuracy}\")"
   ]
  }
 ],
 "metadata": {
  "kernelspec": {
   "display_name": "torch2_cuda11.8",
   "language": "python",
   "name": "python3"
  },
  "language_info": {
   "codemirror_mode": {
    "name": "ipython",
    "version": 3
   },
   "file_extension": ".py",
   "mimetype": "text/x-python",
   "name": "python",
   "nbconvert_exporter": "python",
   "pygments_lexer": "ipython3",
   "version": "3.10.12"
  }
 },
 "nbformat": 4,
 "nbformat_minor": 2
}
