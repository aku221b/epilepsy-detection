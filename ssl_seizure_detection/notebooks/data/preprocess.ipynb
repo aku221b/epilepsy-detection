{
 "cells": [
  {
   "cell_type": "markdown",
   "metadata": {},
   "source": [
    "# Preprocessing Guide\n",
    "This notebooks serves as a guide on converting the initial graph representations created by [Díaz-Montiel & Lankarany (2023)](https://www.biorxiv.org/content/10.1101/2023.06.02.543277v1.abstract) from the OpenNeuro ds003029 dataset into a format that can be used by [PyTorch Geometric](https://pytorch-geometric.readthedocs.io/en/latest/). This is fully automated using the `patch` function in `src/patch.py`. The processed data we are using can be found in the Graham cluster directory:\n",
    "\n",
    "`/User/projects/def-milad777/gr_research/brain-greg/data/ds003029-processed/graph_representation_elements`\n",
    "\n",
    "which contains folders for each patient and their runs."
   ]
  },
  {
   "cell_type": "code",
   "execution_count": null,
   "metadata": {},
   "outputs": [],
   "source": []
  },
  {
   "cell_type": "code",
   "execution_count": 45,
   "metadata": {},
   "outputs": [],
   "source": [
    "# hyper-parameters\n",
    "freq = 256\n",
    "ws = int(1*freq)\n",
    "step = int(0.0625*256)\n",
    "dim = 23"
   ]
  },
  {
   "cell_type": "code",
   "execution_count": 46,
   "metadata": {},
   "outputs": [],
   "source": [
    "base_data_path = '/Users/dentira/anomaly-detection/epilepsy-dataset/chb01/'"
   ]
  },
  {
   "cell_type": "code",
   "execution_count": 47,
   "metadata": {},
   "outputs": [
    {
     "name": "stdout",
     "output_type": "stream",
     "text": [
      "Extracting EDF parameters from /Users/dentira/anomaly-detection/epilepsy-dataset/chb01/chb01_01.edf...\n",
      "EDF file detected\n",
      "Setting channel info structure...\n",
      "Creating raw.info structure...\n"
     ]
    },
    {
     "name": "stderr",
     "output_type": "stream",
     "text": [
      "/var/folders/p9/1_y8s1_53tq6rldvbcbnj9100000gn/T/ipykernel_44444/3386643859.py:17: RuntimeWarning: Channel names are not unique, found duplicates for: {'T8-P8'}. Applying running numbers for duplicates.\n",
      "  raw = mne.io.read_raw_edf(file_path)\n"
     ]
    },
    {
     "name": "stdout",
     "output_type": "stream",
     "text": [
      "Extracting EDF parameters from /Users/dentira/anomaly-detection/epilepsy-dataset/chb01/chb01_02.edf...\n",
      "EDF file detected\n",
      "Setting channel info structure...\n",
      "Creating raw.info structure...\n",
      "Extracting EDF parameters from /Users/dentira/anomaly-detection/epilepsy-dataset/chb01/chb01_03.edf...\n",
      "EDF file detected\n",
      "Setting channel info structure...\n",
      "Creating raw.info structure...\n"
     ]
    },
    {
     "name": "stderr",
     "output_type": "stream",
     "text": [
      "/var/folders/p9/1_y8s1_53tq6rldvbcbnj9100000gn/T/ipykernel_44444/3386643859.py:17: RuntimeWarning: Channel names are not unique, found duplicates for: {'T8-P8'}. Applying running numbers for duplicates.\n",
      "  raw = mne.io.read_raw_edf(file_path)\n",
      "/var/folders/p9/1_y8s1_53tq6rldvbcbnj9100000gn/T/ipykernel_44444/3386643859.py:17: RuntimeWarning: Channel names are not unique, found duplicates for: {'T8-P8'}. Applying running numbers for duplicates.\n",
      "  raw = mne.io.read_raw_edf(file_path)\n"
     ]
    },
    {
     "name": "stdout",
     "output_type": "stream",
     "text": [
      "Extracting EDF parameters from /Users/dentira/anomaly-detection/epilepsy-dataset/chb01/chb01_04.edf...\n",
      "EDF file detected\n",
      "Setting channel info structure...\n",
      "Creating raw.info structure...\n",
      "Extracting EDF parameters from /Users/dentira/anomaly-detection/epilepsy-dataset/chb01/chb01_05.edf...\n",
      "EDF file detected\n",
      "Setting channel info structure...\n",
      "Creating raw.info structure...\n"
     ]
    },
    {
     "name": "stderr",
     "output_type": "stream",
     "text": [
      "/var/folders/p9/1_y8s1_53tq6rldvbcbnj9100000gn/T/ipykernel_44444/3386643859.py:17: RuntimeWarning: Channel names are not unique, found duplicates for: {'T8-P8'}. Applying running numbers for duplicates.\n",
      "  raw = mne.io.read_raw_edf(file_path)\n",
      "/var/folders/p9/1_y8s1_53tq6rldvbcbnj9100000gn/T/ipykernel_44444/3386643859.py:17: RuntimeWarning: Channel names are not unique, found duplicates for: {'T8-P8'}. Applying running numbers for duplicates.\n",
      "  raw = mne.io.read_raw_edf(file_path)\n"
     ]
    },
    {
     "name": "stdout",
     "output_type": "stream",
     "text": [
      "Extracting EDF parameters from /Users/dentira/anomaly-detection/epilepsy-dataset/chb01/chb01_06.edf...\n",
      "EDF file detected\n",
      "Setting channel info structure...\n",
      "Creating raw.info structure...\n"
     ]
    },
    {
     "name": "stderr",
     "output_type": "stream",
     "text": [
      "/var/folders/p9/1_y8s1_53tq6rldvbcbnj9100000gn/T/ipykernel_44444/3386643859.py:17: RuntimeWarning: Channel names are not unique, found duplicates for: {'T8-P8'}. Applying running numbers for duplicates.\n",
      "  raw = mne.io.read_raw_edf(file_path)\n"
     ]
    },
    {
     "name": "stdout",
     "output_type": "stream",
     "text": [
      "Extracting EDF parameters from /Users/dentira/anomaly-detection/epilepsy-dataset/chb01/chb01_07.edf...\n",
      "EDF file detected\n",
      "Setting channel info structure...\n",
      "Creating raw.info structure...\n"
     ]
    },
    {
     "name": "stderr",
     "output_type": "stream",
     "text": [
      "/var/folders/p9/1_y8s1_53tq6rldvbcbnj9100000gn/T/ipykernel_44444/3386643859.py:17: RuntimeWarning: Channel names are not unique, found duplicates for: {'T8-P8'}. Applying running numbers for duplicates.\n",
      "  raw = mne.io.read_raw_edf(file_path)\n"
     ]
    },
    {
     "name": "stdout",
     "output_type": "stream",
     "text": [
      "Extracting EDF parameters from /Users/dentira/anomaly-detection/epilepsy-dataset/chb01/chb01_08.edf...\n",
      "EDF file detected\n",
      "Setting channel info structure...\n",
      "Creating raw.info structure...\n"
     ]
    },
    {
     "name": "stderr",
     "output_type": "stream",
     "text": [
      "/var/folders/p9/1_y8s1_53tq6rldvbcbnj9100000gn/T/ipykernel_44444/3386643859.py:17: RuntimeWarning: Channel names are not unique, found duplicates for: {'T8-P8'}. Applying running numbers for duplicates.\n",
      "  raw = mne.io.read_raw_edf(file_path)\n"
     ]
    },
    {
     "name": "stdout",
     "output_type": "stream",
     "text": [
      "Extracting EDF parameters from /Users/dentira/anomaly-detection/epilepsy-dataset/chb01/chb01_09.edf...\n",
      "EDF file detected\n",
      "Setting channel info structure...\n",
      "Creating raw.info structure...\n"
     ]
    },
    {
     "name": "stderr",
     "output_type": "stream",
     "text": [
      "/var/folders/p9/1_y8s1_53tq6rldvbcbnj9100000gn/T/ipykernel_44444/3386643859.py:17: RuntimeWarning: Channel names are not unique, found duplicates for: {'T8-P8'}. Applying running numbers for duplicates.\n",
      "  raw = mne.io.read_raw_edf(file_path)\n"
     ]
    },
    {
     "name": "stdout",
     "output_type": "stream",
     "text": [
      "Extracting EDF parameters from /Users/dentira/anomaly-detection/epilepsy-dataset/chb01/chb01_10.edf...\n",
      "EDF file detected\n",
      "Setting channel info structure...\n",
      "Creating raw.info structure...\n"
     ]
    },
    {
     "name": "stderr",
     "output_type": "stream",
     "text": [
      "/var/folders/p9/1_y8s1_53tq6rldvbcbnj9100000gn/T/ipykernel_44444/3386643859.py:17: RuntimeWarning: Channel names are not unique, found duplicates for: {'T8-P8'}. Applying running numbers for duplicates.\n",
      "  raw = mne.io.read_raw_edf(file_path)\n"
     ]
    },
    {
     "name": "stdout",
     "output_type": "stream",
     "text": [
      "Extracting EDF parameters from /Users/dentira/anomaly-detection/epilepsy-dataset/chb01/chb01_11.edf...\n",
      "EDF file detected\n",
      "Setting channel info structure...\n",
      "Creating raw.info structure...\n"
     ]
    },
    {
     "name": "stderr",
     "output_type": "stream",
     "text": [
      "/var/folders/p9/1_y8s1_53tq6rldvbcbnj9100000gn/T/ipykernel_44444/3386643859.py:17: RuntimeWarning: Channel names are not unique, found duplicates for: {'T8-P8'}. Applying running numbers for duplicates.\n",
      "  raw = mne.io.read_raw_edf(file_path)\n"
     ]
    },
    {
     "name": "stdout",
     "output_type": "stream",
     "text": [
      "Extracting EDF parameters from /Users/dentira/anomaly-detection/epilepsy-dataset/chb01/chb01_12.edf...\n",
      "EDF file detected\n",
      "Setting channel info structure...\n",
      "Creating raw.info structure...\n"
     ]
    },
    {
     "name": "stderr",
     "output_type": "stream",
     "text": [
      "/var/folders/p9/1_y8s1_53tq6rldvbcbnj9100000gn/T/ipykernel_44444/3386643859.py:17: RuntimeWarning: Channel names are not unique, found duplicates for: {'T8-P8'}. Applying running numbers for duplicates.\n",
      "  raw = mne.io.read_raw_edf(file_path)\n"
     ]
    },
    {
     "name": "stdout",
     "output_type": "stream",
     "text": [
      "Extracting EDF parameters from /Users/dentira/anomaly-detection/epilepsy-dataset/chb01/chb01_13.edf...\n",
      "EDF file detected\n",
      "Setting channel info structure...\n",
      "Creating raw.info structure...\n",
      "Extracting EDF parameters from /Users/dentira/anomaly-detection/epilepsy-dataset/chb01/chb01_14.edf...\n",
      "EDF file detected\n"
     ]
    },
    {
     "name": "stderr",
     "output_type": "stream",
     "text": [
      "/var/folders/p9/1_y8s1_53tq6rldvbcbnj9100000gn/T/ipykernel_44444/3386643859.py:17: RuntimeWarning: Channel names are not unique, found duplicates for: {'T8-P8'}. Applying running numbers for duplicates.\n",
      "  raw = mne.io.read_raw_edf(file_path)\n"
     ]
    },
    {
     "name": "stdout",
     "output_type": "stream",
     "text": [
      "Setting channel info structure...\n",
      "Creating raw.info structure...\n"
     ]
    },
    {
     "name": "stderr",
     "output_type": "stream",
     "text": [
      "/var/folders/p9/1_y8s1_53tq6rldvbcbnj9100000gn/T/ipykernel_44444/3386643859.py:17: RuntimeWarning: Channel names are not unique, found duplicates for: {'T8-P8'}. Applying running numbers for duplicates.\n",
      "  raw = mne.io.read_raw_edf(file_path)\n"
     ]
    },
    {
     "name": "stdout",
     "output_type": "stream",
     "text": [
      "Extracting EDF parameters from /Users/dentira/anomaly-detection/epilepsy-dataset/chb01/chb01_15.edf...\n",
      "EDF file detected\n",
      "Setting channel info structure...\n",
      "Creating raw.info structure...\n"
     ]
    },
    {
     "name": "stderr",
     "output_type": "stream",
     "text": [
      "/var/folders/p9/1_y8s1_53tq6rldvbcbnj9100000gn/T/ipykernel_44444/3386643859.py:17: RuntimeWarning: Channel names are not unique, found duplicates for: {'T8-P8'}. Applying running numbers for duplicates.\n",
      "  raw = mne.io.read_raw_edf(file_path)\n"
     ]
    },
    {
     "name": "stdout",
     "output_type": "stream",
     "text": [
      "Extracting EDF parameters from /Users/dentira/anomaly-detection/epilepsy-dataset/chb01/chb01_16.edf...\n",
      "EDF file detected\n",
      "Setting channel info structure...\n",
      "Creating raw.info structure...\n"
     ]
    },
    {
     "name": "stderr",
     "output_type": "stream",
     "text": [
      "/var/folders/p9/1_y8s1_53tq6rldvbcbnj9100000gn/T/ipykernel_44444/3386643859.py:17: RuntimeWarning: Channel names are not unique, found duplicates for: {'T8-P8'}. Applying running numbers for duplicates.\n",
      "  raw = mne.io.read_raw_edf(file_path)\n"
     ]
    },
    {
     "name": "stdout",
     "output_type": "stream",
     "text": [
      "Extracting EDF parameters from /Users/dentira/anomaly-detection/epilepsy-dataset/chb01/chb01_17.edf...\n",
      "EDF file detected\n",
      "Setting channel info structure...\n",
      "Creating raw.info structure...\n"
     ]
    },
    {
     "name": "stderr",
     "output_type": "stream",
     "text": [
      "/var/folders/p9/1_y8s1_53tq6rldvbcbnj9100000gn/T/ipykernel_44444/3386643859.py:17: RuntimeWarning: Channel names are not unique, found duplicates for: {'T8-P8'}. Applying running numbers for duplicates.\n",
      "  raw = mne.io.read_raw_edf(file_path)\n"
     ]
    },
    {
     "name": "stdout",
     "output_type": "stream",
     "text": [
      "Extracting EDF parameters from /Users/dentira/anomaly-detection/epilepsy-dataset/chb01/chb01_18.edf...\n",
      "EDF file detected\n",
      "Setting channel info structure...\n",
      "Creating raw.info structure...\n"
     ]
    },
    {
     "name": "stderr",
     "output_type": "stream",
     "text": [
      "/var/folders/p9/1_y8s1_53tq6rldvbcbnj9100000gn/T/ipykernel_44444/3386643859.py:17: RuntimeWarning: Channel names are not unique, found duplicates for: {'T8-P8'}. Applying running numbers for duplicates.\n",
      "  raw = mne.io.read_raw_edf(file_path)\n"
     ]
    },
    {
     "name": "stdout",
     "output_type": "stream",
     "text": [
      "Extracting EDF parameters from /Users/dentira/anomaly-detection/epilepsy-dataset/chb01/chb01_19.edf...\n",
      "EDF file detected\n",
      "Setting channel info structure...\n",
      "Creating raw.info structure...\n"
     ]
    },
    {
     "name": "stderr",
     "output_type": "stream",
     "text": [
      "/var/folders/p9/1_y8s1_53tq6rldvbcbnj9100000gn/T/ipykernel_44444/3386643859.py:17: RuntimeWarning: Channel names are not unique, found duplicates for: {'T8-P8'}. Applying running numbers for duplicates.\n",
      "  raw = mne.io.read_raw_edf(file_path)\n"
     ]
    },
    {
     "name": "stdout",
     "output_type": "stream",
     "text": [
      "Extracting EDF parameters from /Users/dentira/anomaly-detection/epilepsy-dataset/chb01/chb01_20.edf...\n",
      "EDF file detected\n",
      "Setting channel info structure...\n",
      "Creating raw.info structure...\n",
      "Extracting EDF parameters from /Users/dentira/anomaly-detection/epilepsy-dataset/chb01/chb01_21.edf...\n",
      "EDF file detected\n",
      "Setting channel info structure...\n",
      "Creating raw.info structure...\n"
     ]
    },
    {
     "name": "stderr",
     "output_type": "stream",
     "text": [
      "/var/folders/p9/1_y8s1_53tq6rldvbcbnj9100000gn/T/ipykernel_44444/3386643859.py:17: RuntimeWarning: Channel names are not unique, found duplicates for: {'T8-P8'}. Applying running numbers for duplicates.\n",
      "  raw = mne.io.read_raw_edf(file_path)\n",
      "/var/folders/p9/1_y8s1_53tq6rldvbcbnj9100000gn/T/ipykernel_44444/3386643859.py:17: RuntimeWarning: Channel names are not unique, found duplicates for: {'T8-P8'}. Applying running numbers for duplicates.\n",
      "  raw = mne.io.read_raw_edf(file_path)\n"
     ]
    },
    {
     "name": "stdout",
     "output_type": "stream",
     "text": [
      "Extracting EDF parameters from /Users/dentira/anomaly-detection/epilepsy-dataset/chb01/chb01_22.edf...\n",
      "EDF file detected\n",
      "Setting channel info structure...\n",
      "Creating raw.info structure...\n"
     ]
    },
    {
     "name": "stderr",
     "output_type": "stream",
     "text": [
      "/var/folders/p9/1_y8s1_53tq6rldvbcbnj9100000gn/T/ipykernel_44444/3386643859.py:17: RuntimeWarning: Channel names are not unique, found duplicates for: {'T8-P8'}. Applying running numbers for duplicates.\n",
      "  raw = mne.io.read_raw_edf(file_path)\n"
     ]
    },
    {
     "name": "stdout",
     "output_type": "stream",
     "text": [
      "Extracting EDF parameters from /Users/dentira/anomaly-detection/epilepsy-dataset/chb01/chb01_23.edf...\n",
      "EDF file detected\n",
      "Setting channel info structure...\n",
      "Creating raw.info structure...\n"
     ]
    },
    {
     "name": "stderr",
     "output_type": "stream",
     "text": [
      "/var/folders/p9/1_y8s1_53tq6rldvbcbnj9100000gn/T/ipykernel_44444/3386643859.py:17: RuntimeWarning: Channel names are not unique, found duplicates for: {'T8-P8'}. Applying running numbers for duplicates.\n",
      "  raw = mne.io.read_raw_edf(file_path)\n"
     ]
    },
    {
     "name": "stdout",
     "output_type": "stream",
     "text": [
      "Extracting EDF parameters from /Users/dentira/anomaly-detection/epilepsy-dataset/chb01/chb01_24.edf...\n",
      "EDF file detected\n",
      "Setting channel info structure...\n",
      "Creating raw.info structure...\n"
     ]
    },
    {
     "name": "stderr",
     "output_type": "stream",
     "text": [
      "/var/folders/p9/1_y8s1_53tq6rldvbcbnj9100000gn/T/ipykernel_44444/3386643859.py:17: RuntimeWarning: Channel names are not unique, found duplicates for: {'T8-P8'}. Applying running numbers for duplicates.\n",
      "  raw = mne.io.read_raw_edf(file_path)\n"
     ]
    },
    {
     "name": "stdout",
     "output_type": "stream",
     "text": [
      "Extracting EDF parameters from /Users/dentira/anomaly-detection/epilepsy-dataset/chb01/chb01_25.edf...\n",
      "EDF file detected\n",
      "Setting channel info structure...\n",
      "Creating raw.info structure...\n"
     ]
    },
    {
     "name": "stderr",
     "output_type": "stream",
     "text": [
      "/var/folders/p9/1_y8s1_53tq6rldvbcbnj9100000gn/T/ipykernel_44444/3386643859.py:17: RuntimeWarning: Channel names are not unique, found duplicates for: {'T8-P8'}. Applying running numbers for duplicates.\n",
      "  raw = mne.io.read_raw_edf(file_path)\n"
     ]
    },
    {
     "name": "stdout",
     "output_type": "stream",
     "text": [
      "Extracting EDF parameters from /Users/dentira/anomaly-detection/epilepsy-dataset/chb01/chb01_26.edf...\n",
      "EDF file detected\n",
      "Setting channel info structure...\n",
      "Creating raw.info structure...\n",
      "Extracting EDF parameters from /Users/dentira/anomaly-detection/epilepsy-dataset/chb01/chb01_27.edf...\n",
      "EDF file detected\n",
      "Setting channel info structure...\n",
      "Creating raw.info structure...\n",
      "Extracting EDF parameters from /Users/dentira/anomaly-detection/epilepsy-dataset/chb01/chb01_29.edf...\n",
      "EDF file detected\n"
     ]
    },
    {
     "name": "stderr",
     "output_type": "stream",
     "text": [
      "/var/folders/p9/1_y8s1_53tq6rldvbcbnj9100000gn/T/ipykernel_44444/3386643859.py:17: RuntimeWarning: Channel names are not unique, found duplicates for: {'T8-P8'}. Applying running numbers for duplicates.\n",
      "  raw = mne.io.read_raw_edf(file_path)\n",
      "/var/folders/p9/1_y8s1_53tq6rldvbcbnj9100000gn/T/ipykernel_44444/3386643859.py:17: RuntimeWarning: Channel names are not unique, found duplicates for: {'T8-P8'}. Applying running numbers for duplicates.\n",
      "  raw = mne.io.read_raw_edf(file_path)\n",
      "/var/folders/p9/1_y8s1_53tq6rldvbcbnj9100000gn/T/ipykernel_44444/3386643859.py:17: RuntimeWarning: Channel names are not unique, found duplicates for: {'T8-P8'}. Applying running numbers for duplicates.\n",
      "  raw = mne.io.read_raw_edf(file_path)\n"
     ]
    },
    {
     "name": "stdout",
     "output_type": "stream",
     "text": [
      "Setting channel info structure...\n",
      "Creating raw.info structure...\n",
      "Extracting EDF parameters from /Users/dentira/anomaly-detection/epilepsy-dataset/chb01/chb01_30.edf...\n",
      "EDF file detected\n",
      "Setting channel info structure...\n",
      "Creating raw.info structure...\n"
     ]
    },
    {
     "name": "stderr",
     "output_type": "stream",
     "text": [
      "/var/folders/p9/1_y8s1_53tq6rldvbcbnj9100000gn/T/ipykernel_44444/3386643859.py:17: RuntimeWarning: Channel names are not unique, found duplicates for: {'T8-P8'}. Applying running numbers for duplicates.\n",
      "  raw = mne.io.read_raw_edf(file_path)\n"
     ]
    },
    {
     "name": "stdout",
     "output_type": "stream",
     "text": [
      "Extracting EDF parameters from /Users/dentira/anomaly-detection/epilepsy-dataset/chb01/chb01_31.edf...\n",
      "EDF file detected\n",
      "Setting channel info structure...\n",
      "Creating raw.info structure...\n"
     ]
    },
    {
     "name": "stderr",
     "output_type": "stream",
     "text": [
      "/var/folders/p9/1_y8s1_53tq6rldvbcbnj9100000gn/T/ipykernel_44444/3386643859.py:17: RuntimeWarning: Channel names are not unique, found duplicates for: {'T8-P8'}. Applying running numbers for duplicates.\n",
      "  raw = mne.io.read_raw_edf(file_path)\n"
     ]
    },
    {
     "name": "stdout",
     "output_type": "stream",
     "text": [
      "Extracting EDF parameters from /Users/dentira/anomaly-detection/epilepsy-dataset/chb01/chb01_32.edf...\n",
      "EDF file detected\n",
      "Setting channel info structure...\n",
      "Creating raw.info structure...\n"
     ]
    },
    {
     "name": "stderr",
     "output_type": "stream",
     "text": [
      "/var/folders/p9/1_y8s1_53tq6rldvbcbnj9100000gn/T/ipykernel_44444/3386643859.py:17: RuntimeWarning: Channel names are not unique, found duplicates for: {'T8-P8'}. Applying running numbers for duplicates.\n",
      "  raw = mne.io.read_raw_edf(file_path)\n"
     ]
    },
    {
     "name": "stdout",
     "output_type": "stream",
     "text": [
      "Extracting EDF parameters from /Users/dentira/anomaly-detection/epilepsy-dataset/chb01/chb01_33.edf...\n",
      "EDF file detected\n",
      "Setting channel info structure...\n",
      "Creating raw.info structure...\n"
     ]
    },
    {
     "name": "stderr",
     "output_type": "stream",
     "text": [
      "/var/folders/p9/1_y8s1_53tq6rldvbcbnj9100000gn/T/ipykernel_44444/3386643859.py:17: RuntimeWarning: Channel names are not unique, found duplicates for: {'T8-P8'}. Applying running numbers for duplicates.\n",
      "  raw = mne.io.read_raw_edf(file_path)\n"
     ]
    },
    {
     "name": "stdout",
     "output_type": "stream",
     "text": [
      "Extracting EDF parameters from /Users/dentira/anomaly-detection/epilepsy-dataset/chb01/chb01_34.edf...\n",
      "EDF file detected\n",
      "Setting channel info structure...\n",
      "Creating raw.info structure...\n"
     ]
    },
    {
     "name": "stderr",
     "output_type": "stream",
     "text": [
      "/var/folders/p9/1_y8s1_53tq6rldvbcbnj9100000gn/T/ipykernel_44444/3386643859.py:17: RuntimeWarning: Channel names are not unique, found duplicates for: {'T8-P8'}. Applying running numbers for duplicates.\n",
      "  raw = mne.io.read_raw_edf(file_path)\n"
     ]
    },
    {
     "name": "stdout",
     "output_type": "stream",
     "text": [
      "Extracting EDF parameters from /Users/dentira/anomaly-detection/epilepsy-dataset/chb01/chb01_36.edf...\n",
      "EDF file detected\n",
      "Setting channel info structure...\n",
      "Creating raw.info structure...\n"
     ]
    },
    {
     "name": "stderr",
     "output_type": "stream",
     "text": [
      "/var/folders/p9/1_y8s1_53tq6rldvbcbnj9100000gn/T/ipykernel_44444/3386643859.py:17: RuntimeWarning: Channel names are not unique, found duplicates for: {'T8-P8'}. Applying running numbers for duplicates.\n",
      "  raw = mne.io.read_raw_edf(file_path)\n"
     ]
    },
    {
     "name": "stdout",
     "output_type": "stream",
     "text": [
      "Extracting EDF parameters from /Users/dentira/anomaly-detection/epilepsy-dataset/chb01/chb01_37.edf...\n",
      "EDF file detected\n",
      "Setting channel info structure...\n",
      "Creating raw.info structure...\n",
      "Extracting EDF parameters from /Users/dentira/anomaly-detection/epilepsy-dataset/chb01/chb01_38.edf...\n",
      "EDF file detected\n"
     ]
    },
    {
     "name": "stderr",
     "output_type": "stream",
     "text": [
      "/var/folders/p9/1_y8s1_53tq6rldvbcbnj9100000gn/T/ipykernel_44444/3386643859.py:17: RuntimeWarning: Channel names are not unique, found duplicates for: {'T8-P8'}. Applying running numbers for duplicates.\n",
      "  raw = mne.io.read_raw_edf(file_path)\n"
     ]
    },
    {
     "name": "stdout",
     "output_type": "stream",
     "text": [
      "Setting channel info structure...\n",
      "Creating raw.info structure...\n"
     ]
    },
    {
     "name": "stderr",
     "output_type": "stream",
     "text": [
      "/var/folders/p9/1_y8s1_53tq6rldvbcbnj9100000gn/T/ipykernel_44444/3386643859.py:17: RuntimeWarning: Channel names are not unique, found duplicates for: {'T8-P8'}. Applying running numbers for duplicates.\n",
      "  raw = mne.io.read_raw_edf(file_path)\n"
     ]
    },
    {
     "name": "stdout",
     "output_type": "stream",
     "text": [
      "Extracting EDF parameters from /Users/dentira/anomaly-detection/epilepsy-dataset/chb01/chb01_39.edf...\n",
      "EDF file detected\n",
      "Setting channel info structure...\n",
      "Creating raw.info structure...\n"
     ]
    },
    {
     "name": "stderr",
     "output_type": "stream",
     "text": [
      "/var/folders/p9/1_y8s1_53tq6rldvbcbnj9100000gn/T/ipykernel_44444/3386643859.py:17: RuntimeWarning: Channel names are not unique, found duplicates for: {'T8-P8'}. Applying running numbers for duplicates.\n",
      "  raw = mne.io.read_raw_edf(file_path)\n"
     ]
    },
    {
     "name": "stdout",
     "output_type": "stream",
     "text": [
      "Extracting EDF parameters from /Users/dentira/anomaly-detection/epilepsy-dataset/chb01/chb01_40.edf...\n",
      "EDF file detected\n",
      "Setting channel info structure...\n",
      "Creating raw.info structure...\n",
      "Extracting EDF parameters from /Users/dentira/anomaly-detection/epilepsy-dataset/chb01/chb01_41.edf...\n"
     ]
    },
    {
     "name": "stderr",
     "output_type": "stream",
     "text": [
      "/var/folders/p9/1_y8s1_53tq6rldvbcbnj9100000gn/T/ipykernel_44444/3386643859.py:17: RuntimeWarning: Channel names are not unique, found duplicates for: {'T8-P8'}. Applying running numbers for duplicates.\n",
      "  raw = mne.io.read_raw_edf(file_path)\n"
     ]
    },
    {
     "name": "stdout",
     "output_type": "stream",
     "text": [
      "EDF file detected\n",
      "Setting channel info structure...\n",
      "Creating raw.info structure...\n",
      "Extracting EDF parameters from /Users/dentira/anomaly-detection/epilepsy-dataset/chb01/chb01_42.edf...\n",
      "EDF file detected\n"
     ]
    },
    {
     "name": "stderr",
     "output_type": "stream",
     "text": [
      "/var/folders/p9/1_y8s1_53tq6rldvbcbnj9100000gn/T/ipykernel_44444/3386643859.py:17: RuntimeWarning: Channel names are not unique, found duplicates for: {'T8-P8'}. Applying running numbers for duplicates.\n",
      "  raw = mne.io.read_raw_edf(file_path)\n"
     ]
    },
    {
     "name": "stdout",
     "output_type": "stream",
     "text": [
      "Setting channel info structure...\n",
      "Creating raw.info structure...\n",
      "Extracting EDF parameters from /Users/dentira/anomaly-detection/epilepsy-dataset/chb01/chb01_43.edf...\n",
      "EDF file detected\n"
     ]
    },
    {
     "name": "stderr",
     "output_type": "stream",
     "text": [
      "/var/folders/p9/1_y8s1_53tq6rldvbcbnj9100000gn/T/ipykernel_44444/3386643859.py:17: RuntimeWarning: Channel names are not unique, found duplicates for: {'T8-P8'}. Applying running numbers for duplicates.\n",
      "  raw = mne.io.read_raw_edf(file_path)\n"
     ]
    },
    {
     "name": "stdout",
     "output_type": "stream",
     "text": [
      "Setting channel info structure...\n",
      "Creating raw.info structure...\n",
      "Extracting EDF parameters from /Users/dentira/anomaly-detection/epilepsy-dataset/chb01/chb01_46.edf...\n",
      "EDF file detected\n",
      "Setting channel info structure...\n",
      "Creating raw.info structure...\n"
     ]
    },
    {
     "name": "stderr",
     "output_type": "stream",
     "text": [
      "/var/folders/p9/1_y8s1_53tq6rldvbcbnj9100000gn/T/ipykernel_44444/3386643859.py:17: RuntimeWarning: Channel names are not unique, found duplicates for: {'T8-P8'}. Applying running numbers for duplicates.\n",
      "  raw = mne.io.read_raw_edf(file_path)\n",
      "/var/folders/p9/1_y8s1_53tq6rldvbcbnj9100000gn/T/ipykernel_44444/3386643859.py:17: RuntimeWarning: Channel names are not unique, found duplicates for: {'T8-P8'}. Applying running numbers for duplicates.\n",
      "  raw = mne.io.read_raw_edf(file_path)\n"
     ]
    },
    {
     "name": "stdout",
     "output_type": "stream",
     "text": [
      "(23, 31259247)\n",
      "(23, 442)\n"
     ]
    }
   ],
   "source": [
    "# data loading \n",
    "import pandas as pd\n",
    "import numpy as np\n",
    "import mne\n",
    "import random\n",
    "# use the labels.csv to load the data\n",
    "path_labels = \"/Users/dentira/anomaly-detection/epilepsy-dataset/labels_chb01.csv\"\n",
    "df = pd.read_csv(path_labels)\n",
    "preitcal_list = []\n",
    "ictal_list = []\n",
    "for index, row in df.iterrows():\n",
    "    file_name = row['File_names']\n",
    "    label = row['Labels']\n",
    "    start = row['Start_time']\n",
    "    end = row['End_time']\n",
    "    file_path = f\"{base_data_path}/{file_name}\"\n",
    "    raw = mne.io.read_raw_edf(file_path)\n",
    "    data, times = raw[:]\n",
    "    if label == 0: \n",
    "        preitcal_list.append(data)\n",
    "    else:\n",
    "        preitcal_list.append(data[:, 0:start])\n",
    "        if end < len(data)-1:\n",
    "           preitcal_list.append(data[:, end+1:len(data)])\n",
    "        ictal_list.append(data[:, start:end])\n",
    "preictal_mat = np.hstack(preitcal_list)\n",
    "ictal_mat = np.hstack(ictal_list)\n",
    "print(preictal_mat.shape)\n",
    "print(ictal_mat.shape)\n",
    "# print(len(preitcal_list))\n",
    "# print(len(ictal_list))\n"
   ]
  },
  {
   "cell_type": "code",
   "execution_count": 48,
   "metadata": {},
   "outputs": [
    {
     "name": "stdout",
     "output_type": "stream",
     "text": [
      "1.9.0\n"
     ]
    }
   ],
   "source": [
    "import mne\n",
    "print(mne.__version__)\n"
   ]
  },
  {
   "cell_type": "code",
   "execution_count": 49,
   "metadata": {},
   "outputs": [],
   "source": [
    "from mne_connectivity import spectral_connectivity_epochs\n",
    "from scipy.signal import welch,detrend\n",
    "def get_band_energies(data, dim):\n",
    "    freq_bands = {\n",
    "        \"Delta\": (1, 4),\n",
    "        \"Theta\": (4, 8),\n",
    "        \"Alpha\": (8, 13),\n",
    "        \"Beta\": (13, 30),\n",
    "        \"Gamma1\": (30, 70),\n",
    "        \"Gamma2\": (70, 100),\n",
    "        \"HighGamma1\": (100, 250),\n",
    "        \"HighGamma2\": (250, 500),\n",
    "    }\n",
    "    data = np.nan_to_num(data)  # Replace NaN/Inf with finite numbers\n",
    "    if np.var(data) == 0:\n",
    "        raise ValueError(\"Input data has zero variance. PSD cannot be computed.\")\n",
    "\n",
    "    data = detrend(data)  # Remove trends or biases\n",
    "    nperseg = min(len(data), 1024)  # Ensure nperseg <= signal length\n",
    "    freqs, psd = welch(data, fs=freq, nperseg=nperseg, axis=-1)\n",
    "    n_bands = len(freq_bands)\n",
    "    band_energy_matrix = np.zeros((dim, n_bands))\n",
    "\n",
    "    for i,(band_name, (fmin, fmax)) in enumerate(freq_bands.items()):\n",
    "        band_mask = (freqs >= fmin) & (freqs <= fmax)\n",
    "        band_energy_matrix[:, i] = np.sum(psd[:, band_mask], axis=1)\n",
    "\n",
    "    return band_energy_matrix\n",
    "def generate_coh_array(segments):\n",
    "    n_channels = segments.shape[0]\n",
    "    n_times = segments.shape[1]\n",
    "    segments = np.array(segments)\n",
    "\n",
    "    # Create artificial epochs (e.g., splitting into 4 sub-epochs)\n",
    "    n_sub_epochs = 4\n",
    "    sub_epoch_length = n_times // n_sub_epochs\n",
    "    segments_split = segments.reshape(n_sub_epochs, n_channels, sub_epoch_length)\n",
    "    con = spectral_connectivity_epochs(\n",
    "        segments_split,\n",
    "        method='coh',\n",
    "        mode='fourier',            # Use FFT for spectral estimation\n",
    "        sfreq=freq,\n",
    "        tmin=0,                  # Start coherence computation from 1 second\n",
    "        tmax=None,                 # Use until the end of the data\n",
    "        faverage=True,            # Do not average frequencies\n",
    "        verbose=False           # Print detailed logs\n",
    "    )\n",
    "    coherence_matrix = con.get_data().reshape(dim, dim)\n",
    "    coherence_matrix = np.nan_to_num(coherence_matrix)\n",
    "    return coherence_matrix\n",
    "\n",
    "def generate_plv_array(segments):\n",
    "    n_channels = segments.shape[0]\n",
    "    n_times = segments.shape[1]\n",
    "    segments = np.array(segments)\n",
    "    # Create artificial epochs (e.g., splitting into 4 sub-epochs)\n",
    "    n_sub_epochs = 4\n",
    "    sub_epoch_length = n_times // n_sub_epochs\n",
    "    segments_split = segments.reshape(n_sub_epochs, n_channels, sub_epoch_length)\n",
    "    con = spectral_connectivity_epochs(\n",
    "        segments_split, method='plv', mode='multitaper', sfreq=freq,\n",
    "        faverage=True, tmin=0, tmax=None, verbose=False\n",
    "    )\n",
    "    plv_matrix = con.get_data().reshape(dim, dim)\n",
    "    plv_matrix = np.nan_to_num(plv_matrix)\n",
    "    return plv_matrix\n",
    "def generate_fcns(data, dim):\n",
    "    fcns = []\n",
    "    i = 0\n",
    "    while i < len(data):\n",
    "        fcn = []\n",
    "        # all ones\n",
    "        fcn.append(np.ones((dim, dim)))\n",
    "        # correlation\n",
    "        fcn.append(np.corrcoef(data[i]))\n",
    "        # coherence\n",
    "        fcn.append(generate_coh_array(data[i]))       \n",
    "        # PLV\n",
    "        fcn.append(generate_plv_array(data[i]))\n",
    "\n",
    "        fcns.append(fcn)\n",
    "        i+=1\n",
    "    return fcns\n",
    "\n",
    "def generate_node_features(data, dim):\n",
    "    features = []\n",
    "    # all ones\n",
    "    features.append(np.ones((dim, dim)))\n",
    "    # avg energy \n",
    "    features.append(np.mean(data**2, axis=1, keepdims=True))\n",
    "    # band energies\n",
    "    features.append(get_band_energies(data,dim)) \n",
    "    return features"
   ]
  },
  {
   "cell_type": "code",
   "execution_count": 50,
   "metadata": {},
   "outputs": [],
   "source": [
    "def generate_segements(data):\n",
    "     # print(data.shape)\n",
    "    dim, num = data.shape\n",
    "    i = 0\n",
    "    segments = []\n",
    "    while i < num:\n",
    "        if num - i > ws:\n",
    "            curr_win = data[:, i:i+256]\n",
    "        segments.append(curr_win)\n",
    "        i += step\n",
    "    \n",
    "    return segments\n",
    "\n",
    "preictal_segments = generate_segements(preictal_mat)\n",
    "ictal_segments = generate_segements(ictal_mat)\n",
    "preictal_segments = random.sample(preictal_segments, 10000)\n",
    "\n",
    "    "
   ]
  },
  {
   "cell_type": "code",
   "execution_count": 51,
   "metadata": {},
   "outputs": [
    {
     "name": "stdout",
     "output_type": "stream",
     "text": [
      "10000\n",
      "28\n"
     ]
    }
   ],
   "source": [
    "print(len(preictal_segments))\n",
    "print(len(ictal_segments))"
   ]
  },
  {
   "cell_type": "code",
   "execution_count": 52,
   "metadata": {},
   "outputs": [],
   "source": [
    "\n",
    "def generate_graphs(data, fcns):\n",
    "    i = 0\n",
    "    graphs = []\n",
    "    while i < len(data):\n",
    "        NF = generate_node_features(data[i], dim)\n",
    "        graphs.append([fcns[i], NF, np.expand_dims(fcns[i], axis=-1)])\n",
    "        i += 1\n",
    "    return graphs"
   ]
  },
  {
   "cell_type": "code",
   "execution_count": 53,
   "metadata": {},
   "outputs": [
    {
     "name": "stderr",
     "output_type": "stream",
     "text": [
      "/opt/miniconda3/envs/ssl-seizure-detection/lib/python3.10/site-packages/mne_connectivity/spectral/epochs_bivariate.py:81: RuntimeWarning: invalid value encountered in divide\n",
      "  self.con_scores[con_idx] = np.abs(csd_mean) / np.sqrt(psd_xx * psd_yy)\n",
      "/opt/miniconda3/envs/ssl-seizure-detection/lib/python3.10/site-packages/mne_connectivity/spectral/epochs_bivariate.py:81: RuntimeWarning: invalid value encountered in divide\n",
      "  self.con_scores[con_idx] = np.abs(csd_mean) / np.sqrt(psd_xx * psd_yy)\n",
      "/opt/miniconda3/envs/ssl-seizure-detection/lib/python3.10/site-packages/mne_connectivity/spectral/epochs_bivariate.py:81: RuntimeWarning: invalid value encountered in divide\n",
      "  self.con_scores[con_idx] = np.abs(csd_mean) / np.sqrt(psd_xx * psd_yy)\n",
      "/opt/miniconda3/envs/ssl-seizure-detection/lib/python3.10/site-packages/mne_connectivity/spectral/epochs_bivariate.py:81: RuntimeWarning: invalid value encountered in divide\n",
      "  self.con_scores[con_idx] = np.abs(csd_mean) / np.sqrt(psd_xx * psd_yy)\n"
     ]
    }
   ],
   "source": [
    "\n",
    "ictal_fcns = generate_fcns(ictal_segments, dim)\n",
    "precital_fcns = generate_fcns(preictal_segments, dim)\n",
    "\n",
    "\n",
    "\n",
    "# preictal_graphs = generate_graphs(preictal_segments, precital_fcns)\n",
    "# ictal_graphs = generate_graphs(ictal_segments, ictal_fcns)"
   ]
  },
  {
   "cell_type": "code",
   "execution_count": 54,
   "metadata": {},
   "outputs": [
    {
     "name": "stdout",
     "output_type": "stream",
     "text": [
      "28\n",
      "10000\n"
     ]
    }
   ],
   "source": [
    "print(len(ictal_fcns))\n",
    "print(len(precital_fcns))"
   ]
  },
  {
   "cell_type": "code",
   "execution_count": 55,
   "metadata": {},
   "outputs": [
    {
     "data": {
      "text/plain": [
       "(23, 23)"
      ]
     },
     "execution_count": 55,
     "metadata": {},
     "output_type": "execute_result"
    }
   ],
   "source": [
    "# ictal_fcns[0][2].shape\n",
    "precital_fcns[0][2].shape"
   ]
  },
  {
   "cell_type": "code",
   "execution_count": 56,
   "metadata": {},
   "outputs": [],
   "source": [
    "preictal_graphs = generate_graphs(preictal_segments, precital_fcns)\n",
    "ictal_graphs = generate_graphs(ictal_segments, ictal_fcns)"
   ]
  },
  {
   "cell_type": "markdown",
   "metadata": {},
   "source": []
  },
  {
   "cell_type": "code",
   "execution_count": 57,
   "metadata": {},
   "outputs": [],
   "source": [
    "import pickle\n",
    "base_path = \"/Users/dentira/anomaly-detection/ssl-based-model/ssl-seizure-detection/ssl_seizure_detection/dummy_data/supervised/\"\n",
    "with open(f\"{base_path}ictal_data.pkl\",'wb') as file:\n",
    "    pickle.dump(ictal_graphs, file)\n",
    "\n",
    "with open(f\"{base_path}preictal_data.pkl\",'wb') as file:\n",
    "    pickle.dump(preictal_graphs, file)"
   ]
  },
  {
   "cell_type": "code",
   "execution_count": 58,
   "metadata": {},
   "outputs": [],
   "source": [
    "import torch\n",
    "import pickle\n",
    "import numpy as np\n",
    "import sys\n",
    "sys.path.append('/Users/dentira/anomaly-detection/ssl-based-model/ssl-seizure-detection/ssl_seizure_detection/src/data')\n"
   ]
  },
  {
   "cell_type": "code",
   "execution_count": 59,
   "metadata": {},
   "outputs": [],
   "source": [
    "from preprocess import new_grs, create_tensordata_new, convert_to_Data, pseudo_data, convert_to_PairData, convert_to_TripletData"
   ]
  },
  {
   "cell_type": "markdown",
   "metadata": {},
   "source": [
    "\n",
    "### Step 1: Extracting Graph Representations\n",
    "For each patient and each run, there are three files: preictal (before seizure), ictal (seizure occurring), and postictal (after seizure). Each file is a list with entries of the form the form `graph = [A, NF, EF]`. Where `A`, `NF`, and `EF` are lists of length 4, 3, and 4 respectively defined below.\n",
    "\n",
    "`A = [A0, A1, A2, A3]`, where :\n",
    "-   `A0` = Ones, shape `(107,107)`.\n",
    "-   `A1` = Correlation, shape `(107,107)`.  \n",
    "-   `A2` = Coherence, shape `(107,107)`.\n",
    "-   `A3` = Phase, shape `(107,107)`.\n",
    "\n",
    "`NF = [NF0, NF1, NF2]`, where:\n",
    "\n",
    "-  `NF0` = Ones, shape `(107,1)`.\n",
    "-  `NF1` = Average Energy, shape `(107,1)`.\n",
    "-  `NF2` = Band Energy, shape `(107,8)`.\n",
    "\n",
    "\n",
    "`EF = [EF0, EF1, EF2, EF3]`, where:\n",
    "\n",
    "-  `EF0` = Ones, shape `(107,107,1)`.\n",
    "-  `EF1` = Correlation, shape `(107,107,1)`.\n",
    "-  `EF2` = Coherence, shape `(107,107,1)`.\n",
    "-  `EF3` = Phase, shape `(107,107,1)`.\n",
    "\n",
    "All the information above has been (experimentally) confirmed by the above and Alan's documentation of `get_nf`, `get_adj`, and `get_ef` helper functions in his `load_data()` function, but should talk to Alan about confirming these details for absolute certainty."
   ]
  },
  {
   "cell_type": "markdown",
   "metadata": {},
   "source": [
    "We'll first load the preictal, ictal, and postictal files for a single patient and run. In this case, the patient folder is `jh101` and we are using run $1$."
   ]
  },
  {
   "cell_type": "code",
   "execution_count": 60,
   "metadata": {},
   "outputs": [],
   "source": [
    "# Mac\n",
    "path_ictal = f\"/Users/dentira/anomaly-detection/ssl-based-model/ssl-seizure-detection/ssl_seizure_detection/dummy_data/supervised/ictal_data.pkl\"\n",
    "path_preictal = f\"/Users/dentira/anomaly-detection/ssl-based-model/ssl-seizure-detection/ssl_seizure_detection/dummy_data/supervised/preictal_data.pkl\"\n",
    "# path_postictal = f\"/Users/dentira/anomaly-detection/ssl-based-model/ssl-seizure-detection/ssl_seizure_detection/dummy_data/supervised/ictal_data.pkl\"\n",
    "\n",
    "\n",
    "with open(path_preictal, 'rb') as f:\n",
    "    data_preictal = pickle.load(f)\n",
    "with open(path_ictal, 'rb') as f:\n",
    "    data_ictal = pickle.load(f)\n",
    "# with open(path_postictal, 'rb') as f:\n",
    "    # data_postictal = pickle.load(f)"
   ]
  },
  {
   "cell_type": "markdown",
   "metadata": {},
   "source": [
    "### Step 2: Selecting Graph Representations\n",
    "For simplicity we're going to select the most extensive graph representation:\n",
    "-  `A` = None\n",
    "-  `NF` = Average Energy and Band Energy, shape `(107,9)`.\n",
    "-  `EF` = Correlation, Coherence, Phase, shape `(107, 107, 3)`.\n",
    "\n",
    "Note that because most PyG layers do not use a separate adjacency matrix with weights, we will not use it, and instead we'll use all the possible edge features. This is facilitated by the `new_grs` functions which gives us the data with a label of `Y = [Y_1, Y_2]` where `Y_1` is the binary label for ictal (1) or nonictal (0), and `Y_2` is the multiclass label for preictal (0), ictal (1), or postictal (2)."
   ]
  },
  {
   "cell_type": "markdown",
   "metadata": {},
   "source": [
    "##### Binary Classification"
   ]
  },
  {
   "cell_type": "code",
   "execution_count": 61,
   "metadata": {},
   "outputs": [],
   "source": [
    "# Select the graph representation for each class\n",
    "new_data_preictal = new_grs(data_preictal, type=\"preictal\")\n",
    "new_data_ictal = new_grs(data_ictal, type=\"ictal\")\n",
    "# new_data_postictal = new_grs(data_postictal, type=\"postictal\")"
   ]
  },
  {
   "cell_type": "markdown",
   "metadata": {},
   "source": [
    "\n",
    "After selecting the GRs for each class, we concatenate them temporally into a single list `[preictal, ictal, postictal]`."
   ]
  },
  {
   "cell_type": "code",
   "execution_count": 62,
   "metadata": {},
   "outputs": [],
   "source": [
    "new_data = new_data_preictal + new_data_ictal"
   ]
  },
  {
   "cell_type": "code",
   "execution_count": 63,
   "metadata": {},
   "outputs": [
    {
     "name": "stdout",
     "output_type": "stream",
     "text": [
      "Number of electrodes: 23\n"
     ]
    }
   ],
   "source": [
    "num_electrodes = new_data[0][0][0].shape[0]\n",
    "print(f\"Number of electrodes: {num_electrodes}\")"
   ]
  },
  {
   "cell_type": "markdown",
   "metadata": {},
   "source": [
    "### Step 3: Standard GRs $\\rightarrow$ PyG GRs\n",
    "The function `create_tensordata_new` converts the pickle file list of standard graph representations, a list with entries of the form $[ [NF, EF] , Y]$, where $NF$ are the node features, $EF$ are the edge features, and $Y$ is the graph label. The function first inserts an `edge_index` for a **complete graph** in the PyG format, which is a tensor of shape `[2, num_edges]` where each column $[i \\ \\ j]^T$ indicates the directed edge $i \\to j$; this is built using the helper function `build_K_n` found in `preprocess.py`. The node features $NF$ are untouched, but converted to float32 a tensor, notated by `x` in PyG. The edge features are converted to `edge_attr` which is a float32 tensor of shape `[num_edges, num_edge_features]` which follows the `edge_index` accordingly, i.e. the 4th column in `edge_index` (4th edge) will correspond to the edge feature `edge_attr[3,:]`, and so on. The label $Y$ is converted to a long torch tensor. The output is a list with entries of the form `[[edge_index, x, edge_attr], y]`."
   ]
  },
  {
   "cell_type": "code",
   "execution_count": 64,
   "metadata": {},
   "outputs": [
    {
     "name": "stdout",
     "output_type": "stream",
     "text": [
      "10028\n",
      "10000\n",
      "28\n",
      "0\n"
     ]
    }
   ],
   "source": [
    "pyg_grs = create_tensordata_new(num_nodes=num_electrodes, data_list=new_data, complete=True, save=False, logdir=None)\n",
    "print(len(pyg_grs))\n",
    "zero = 0\n",
    "one = 0\n",
    "two = 0\n",
    "for g in pyg_grs:\n",
    "    # print(g[1][0][0])\n",
    "    if g[1][0][1] == 0: zero+=1\n",
    "    elif g[1][0][1] == 1: one+=1\n",
    "    else: two+=1\n",
    "print(zero)\n",
    "print(one)\n",
    "print(two)\n"
   ]
  },
  {
   "cell_type": "code",
   "execution_count": 65,
   "metadata": {},
   "outputs": [
    {
     "name": "stdout",
     "output_type": "stream",
     "text": [
      "10028\n",
      "<class 'torch.Tensor'>\n",
      "Edge features shape: torch.Size([506, 3])\n",
      "Edge features stored in edge_attr: tensor([[ 0.3355,  0.0000,  0.0000],\n",
      "        [-0.1031,  0.0000,  0.0000],\n",
      "        [-0.1673,  0.0000,  0.0000],\n",
      "        ...,\n",
      "        [-0.4085,  0.3932,  0.3770],\n",
      "        [ 0.1278,  0.3777,  0.2925],\n",
      "        [ 0.3122,  0.7194,  0.4664]])\n"
     ]
    }
   ],
   "source": [
    "# Look inside of pyg_grs\n",
    "print(len(pyg_grs))\n",
    "print(type(pyg_grs[0][0][0]))\n",
    "print(\"Edge features shape:\", pyg_grs[0][0][2].shape)\n",
    "print(\"Edge features stored in edge_attr:\", pyg_grs[0][0][2])"
   ]
  },
  {
   "cell_type": "markdown",
   "metadata": {},
   "source": [
    "### Step 4: PyG GRs $\\rightarrow$ PyG Data\n",
    "<u>**Stop after this step**</u> if you only need PyG Data for <u>**supervised learning**</u>. \n",
    "\n",
    "Here we take the PyG graph representations, and apply the `convert_to_Data` function to create a new list where each entry is now a `torch_geometric.data.Data` object. This is the main object uses to hold graphs in PyG, so we need to use it, especially for batching (for more details see my tutorial `tutorial.ipynb`, or click [here](https://pytorch-geometric.readthedocs.io/en/latest/get_started/introduction.html) for the official tutorial from PyG)."
   ]
  },
  {
   "cell_type": "code",
   "execution_count": 66,
   "metadata": {},
   "outputs": [],
   "source": [
    "# Convert the PyG GRs to the PyG Data format\n",
    "pyg_Data_path = \"/Users/dentira/anomaly-detection/ssl-based-model/ssl-seizure-detection/ssl_seizure_detection/patient_gr/jh101_pyg_Data.pt\"\n",
    "Data_list = convert_to_Data(pyg_grs, save=True, logdir=pyg_Data_path)"
   ]
  },
  {
   "cell_type": "markdown",
   "metadata": {},
   "source": [
    "### Step 5: Relative Positioning\n",
    "In this step we take the output of Step 3 (`pyg_grs`) and create the pseudolabeled dataset of graph pairs for the relative positioning self-supervised method.  Given our list `pyg_grs` and hyperparameters $\\tau_+$ and $\\tau_-$. The function `pseudo_data` below returns a list of graph pairs where each entry is of the form `[[edge_index1, x1, edge_attr1], [edge_index2, x2, edge_attr2], y]`, where `y` is a pseudolabel (not the old label). Since the total size of the pseudolabeled dataset can be quite large, we use the `sample_ratio` argument to randomly sample a certain portion of it (e.g., `sample_ratio = 0.2` will give us 20% of the total pseudolabeled dataset). Also note that the function will return an equal number of positive and negative samples, as `pseudo_data` automatically balances out the correspondingly classes."
   ]
  },
  {
   "cell_type": "code",
   "execution_count": 91,
   "metadata": {},
   "outputs": [
    {
     "name": "stdout",
     "output_type": "stream",
     "text": [
      "Number of examples: 0\n",
      "Series([], Name: count, dtype: int64)\n"
     ]
    }
   ],
   "source": [
    "pdata = pseudo_data(pyg_grs, tau_pos=12 // 0.12, tau_neg=60 // 0.12, stats=True, save=False, patientid=\"\", \n",
    "                            logdir=None, model=\"relative_positioning\", sample_ratio=0.10)"
   ]
  },
  {
   "cell_type": "code",
   "execution_count": 92,
   "metadata": {},
   "outputs": [
    {
     "name": "stdout",
     "output_type": "stream",
     "text": [
      "0\n"
     ]
    },
    {
     "ename": "IndexError",
     "evalue": "list index out of range",
     "output_type": "error",
     "traceback": [
      "\u001b[0;31m---------------------------------------------------------------------------\u001b[0m",
      "\u001b[0;31mIndexError\u001b[0m                                Traceback (most recent call last)",
      "Cell \u001b[0;32mIn[92], line 3\u001b[0m\n\u001b[1;32m      1\u001b[0m \u001b[38;5;66;03m# Look inside of pdata\u001b[39;00m\n\u001b[1;32m      2\u001b[0m \u001b[38;5;28mprint\u001b[39m(\u001b[38;5;28mlen\u001b[39m(pdata))\n\u001b[0;32m----> 3\u001b[0m example \u001b[38;5;241m=\u001b[39m \u001b[43mpdata\u001b[49m\u001b[43m[\u001b[49m\u001b[38;5;241;43m0\u001b[39;49m\u001b[43m]\u001b[49m\n\u001b[1;32m      4\u001b[0m graph1, graph2, label \u001b[38;5;241m=\u001b[39m example\n\u001b[1;32m      5\u001b[0m edge_index1, x1, edge_attr1 \u001b[38;5;241m=\u001b[39m graph1\n",
      "\u001b[0;31mIndexError\u001b[0m: list index out of range"
     ]
    }
   ],
   "source": [
    "# Look inside of pdata\n",
    "print(len(pdata))\n",
    "example = pdata[0]\n",
    "graph1, graph2, label = example\n",
    "edge_index1, x1, edge_attr1 = graph1\n",
    "edge_index2, x2, edge_attr2 = graph2\n",
    "print(\"Edge features shape:\", edge_attr1.shape)\n",
    "print(\"Edge features stored in edge_attr:\", edge_attr1)"
   ]
  },
  {
   "cell_type": "markdown",
   "metadata": {},
   "source": [
    "Now instead of converting each graph pair to `torch_geometric.data.Data` object, we instead create a new class called `PairData` that inherits from the `torch_geometric.data.Data` class, allowing us to batch *pairs* of graphs. We use the `convert_to_PairData` function to convert the list of graph pairs to a list of `PairData` objects (see [here](https://pytorch-geometric.readthedocs.io/en/latest/advanced/batching.html) for more details)."
   ]
  },
  {
   "cell_type": "code",
   "execution_count": 16,
   "metadata": {},
   "outputs": [],
   "source": [
    "Pair_Data = convert_to_PairData(pdata, save=False, logdir=None)"
   ]
  },
  {
   "cell_type": "markdown",
   "metadata": {},
   "source": [
    "### Step 6: Temporal Shuffling\n",
    "This step is nearly identical to Step 5, we take the `pyg_grs` and use them to create a pseudolabeled dataset for the temporal shuffling self-supervised method. However, in this method we generate *graph triplets* of the form `[[edge_index1, x1, edge_attr1], [edge_index2, x2, edge_attr2], [edge_index3, x3, edge_attr3], y]` where `y` is the pseudolabel. The size of the pseudolabeled dataset for temporal shuffling can be extremely large, therefore it is <u>**strongly encouraged**</u> to use the `sample_ratio` argument to scale down the dataset."
   ]
  },
  {
   "cell_type": "code",
   "execution_count": 19,
   "metadata": {},
   "outputs": [],
   "source": [
    "pdata = pseudo_data(pyg_grs, tau_pos=12 // 0.12, tau_neg=60 // 0.12, stats=True, save=False, patientid=\"patient\", logdir=None, \n",
    "                    model=\"temporal_shuffling\", sample_ratio=0.3)"
   ]
  },
  {
   "cell_type": "code",
   "execution_count": null,
   "metadata": {},
   "outputs": [],
   "source": [
    "print(pdata[0][0][2])"
   ]
  },
  {
   "cell_type": "markdown",
   "metadata": {},
   "source": [
    "Similar to Step 5, we create a new class called `TripletData` that inherits from the `torch_geometric.data.Data` class for batching graph triplets in PyG."
   ]
  },
  {
   "cell_type": "code",
   "execution_count": null,
   "metadata": {},
   "outputs": [],
   "source": [
    "Triplet_Data = convert_to_TripletData(pdata, save=False, logdir=None)"
   ]
  },
  {
   "cell_type": "markdown",
   "metadata": {},
   "source": [
    "### Step 7: Automatic Conversion\n",
    "The `patch` function in `patch.py` does all of the above, converting the original preictal, ictal, and postictal files from a single patient run. Please see documentation in `patch.py`"
   ]
  },
  {
   "cell_type": "code",
   "execution_count": 1,
   "metadata": {},
   "outputs": [],
   "source": [
    "import sys\n",
    "import torch\n",
    "from ssl_seizure_detection.src.patch import single_patient_patcher\n",
    "\n",
    "# PC\n",
    "patient_dir = r\"C:\\Users\\xmoot\\Desktop\\Data\\ssl-seizure-detection\\patient_gr\"\n",
    "patient = \"jh101\"\n",
    "logdir = r\"C:\\Users\\xmoot\\Desktop\\Data\\ssl-seizure-detection\\patient_pyg\"\n",
    "\n",
    "# Patch the data\n",
    "data = single_patient_patcher(user=\"xmootoo\", patient_dir=patient_dir, patient=patient, logdir=logdir, model=\"VICRegT1\", stats=True, save=True,\n",
    "                              sigma=5, tau=0.68)\n",
    "\n",
    "jh101_data = torch.load(r\"C:\\Users\\xmoot\\Desktop\\Data\\ssl-seizure-detection\\patient_pyg\\jh101\\VICRegT1\\jh101_combined.pt\")\n",
    "\n",
    "print(len(jh101_data))"
   ]
  }
 ],
 "metadata": {
  "kernelspec": {
   "display_name": "Python 3",
   "language": "python",
   "name": "python3"
  },
  "language_info": {
   "codemirror_mode": {
    "name": "ipython",
    "version": 3
   },
   "file_extension": ".py",
   "mimetype": "text/x-python",
   "name": "python",
   "nbconvert_exporter": "python",
   "pygments_lexer": "ipython3",
   "version": "3.10.15"
  },
  "orig_nbformat": 4
 },
 "nbformat": 4,
 "nbformat_minor": 2
}
